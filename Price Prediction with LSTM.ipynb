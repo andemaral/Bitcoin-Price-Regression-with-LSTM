{
 "cells": [
  {
   "cell_type": "code",
   "execution_count": 1,
   "metadata": {},
   "outputs": [],
   "source": [
    "# This Python 3 environment comes with many helpful analytics libraries installed\n",
    "# It is defined by the kaggle/python docker image: https://github.com/kaggle/docker-python\n",
    "# For example, here's several helpful packages to load in \n",
    "\n",
    "import numpy as np # linear algebra\n",
    "import pandas as pd # data processing, CSV file I/O (e.g. pd.read_csv)\n",
    "import matplotlib.pyplot as plt\n",
    "\n",
    "# Input data files are available in the \"../input/\" directory.\n",
    "# For example, running this (by clicking run or pressing Shift+Enter) will list the files in the input directory\n",
    "import warnings\n",
    "warnings.filterwarnings(\"ignore\")\n",
    "\n",
    "\n",
    "\n",
    "# Any results you write to the current directory are saved as output."
   ]
  },
  {
   "cell_type": "code",
   "execution_count": 2,
   "metadata": {},
   "outputs": [],
   "source": [
    "bit_data=pd.read_csv(\"bitstampUSD_1-min_data_2012-01-01_to_2020-04-22.csv\")\n",
    "bit_data[\"date\"]=pd.to_datetime(bit_data[\"Timestamp\"],unit=\"s\").dt.date\n",
    "group=bit_data.groupby(\"date\")\n",
    "data=group[\"Close\"].mean()"
   ]
  },
  {
   "cell_type": "code",
   "execution_count": 3,
   "metadata": {},
   "outputs": [
    {
     "data": {
      "text/plain": [
       "date\n",
       "2011-12-31       4.482500\n",
       "2012-01-01       4.806667\n",
       "2012-01-02       5.000000\n",
       "2012-01-03       5.252500\n",
       "2012-01-04       5.223333\n",
       "                 ...     \n",
       "2020-04-18    7154.182630\n",
       "2020-04-19    7167.088857\n",
       "2020-04-20    7050.542267\n",
       "2020-04-21    6867.164541\n",
       "2020-04-22    6850.600000\n",
       "Name: Close, Length: 3033, dtype: float64"
      ]
     },
     "execution_count": 3,
     "metadata": {},
     "output_type": "execute_result"
    }
   ],
   "source": [
    "data"
   ]
  },
  {
   "cell_type": "code",
   "execution_count": 4,
   "metadata": {},
   "outputs": [
    {
     "name": "stdout",
     "output_type": "stream",
     "text": [
      "float64\n",
      "(3033,)\n"
     ]
    }
   ],
   "source": [
    "print(data.dtypes)\n",
    "print(data.shape)"
   ]
  },
  {
   "cell_type": "code",
   "execution_count": 5,
   "metadata": {},
   "outputs": [
    {
     "data": {
      "text/plain": [
       "3033"
      ]
     },
     "execution_count": 5,
     "metadata": {},
     "output_type": "execute_result"
    }
   ],
   "source": [
    "len(data)"
   ]
  },
  {
   "cell_type": "markdown",
   "metadata": {},
   "source": [
    "I am separating last 50 rows as the test data."
   ]
  },
  {
   "cell_type": "code",
   "execution_count": 6,
   "metadata": {},
   "outputs": [],
   "source": [
    "close_train=data.iloc[:len(data)-50]\n",
    "close_test=data.iloc[len(close_train):]"
   ]
  },
  {
   "cell_type": "markdown",
   "metadata": {},
   "source": [
    "Standarizing the values"
   ]
  },
  {
   "cell_type": "code",
   "execution_count": 7,
   "metadata": {},
   "outputs": [],
   "source": [
    "#feature scalling (set values between 0-1)\n",
    "close_train=np.array(close_train)\n",
    "close_train=close_train.reshape(close_train.shape[0],1)\n",
    "from sklearn.preprocessing import MinMaxScaler\n",
    "scaler=MinMaxScaler(feature_range=(0,1))\n",
    "close_scaled=scaler.fit_transform(close_train)"
   ]
  },
  {
   "cell_type": "markdown",
   "metadata": {},
   "source": [
    "I am going to use a time step of 50 days\n",
    "\n",
    "Let's choose each 50 data as x-train and 51th as y-train"
   ]
  },
  {
   "cell_type": "code",
   "execution_count": null,
   "metadata": {},
   "outputs": [],
   "source": [
    "close_scaled.shape[0]"
   ]
  },
  {
   "cell_type": "code",
   "execution_count": 8,
   "metadata": {},
   "outputs": [
    {
     "name": "stdout",
     "output_type": "stream",
     "text": [
      "x_train shape=  (2933, 50, 1)\n",
      "y_train shape=  (2933,)\n"
     ]
    }
   ],
   "source": [
    "timestep=50\n",
    "x_train=[]\n",
    "y_train=[]\n",
    "\n",
    "for i in range(timestep,close_scaled.shape[0]):\n",
    "    x_train.append(close_scaled[i-timestep:i,0])\n",
    "    y_train.append(close_scaled[i,0])\n",
    "\n",
    "x_train,y_train=np.array(x_train),np.array(y_train)\n",
    "x_train=x_train.reshape(x_train.shape[0],x_train.shape[1],1) #reshaped for RNN\n",
    "print(\"x_train shape= \",x_train.shape)\n",
    "print(\"y_train shape= \",y_train.shape)"
   ]
  },
  {
   "cell_type": "code",
   "execution_count": 9,
   "metadata": {},
   "outputs": [
    {
     "name": "stderr",
     "output_type": "stream",
     "text": [
      "Using TensorFlow backend.\n"
     ]
    },
    {
     "name": "stdout",
     "output_type": "stream",
     "text": [
      "Epoch 1/100\n",
      "2933/2933 [==============================] - 10s 3ms/step - loss: 0.0106\n",
      "Epoch 2/100\n",
      "2933/2933 [==============================] - 8s 3ms/step - loss: 0.0024\n",
      "Epoch 3/100\n",
      "2933/2933 [==============================] - 8s 3ms/step - loss: 0.0018\n",
      "Epoch 4/100\n",
      "2933/2933 [==============================] - 8s 3ms/step - loss: 0.0012\n",
      "Epoch 5/100\n",
      "2933/2933 [==============================] - 9s 3ms/step - loss: 0.0015\n",
      "Epoch 6/100\n",
      "2933/2933 [==============================] - 9s 3ms/step - loss: 0.0012\n",
      "Epoch 7/100\n",
      "2933/2933 [==============================] - 8s 3ms/step - loss: 0.0013\n",
      "Epoch 8/100\n",
      "2933/2933 [==============================] - 8s 3ms/step - loss: 9.5889e-04\n",
      "Epoch 9/100\n",
      "2933/2933 [==============================] - 8s 3ms/step - loss: 9.8935e-04\n",
      "Epoch 10/100\n",
      "2933/2933 [==============================] - 8s 3ms/step - loss: 8.0877e-04\n",
      "Epoch 11/100\n",
      "2933/2933 [==============================] - 8s 3ms/step - loss: 7.3561e-04\n",
      "Epoch 12/100\n",
      "2933/2933 [==============================] - 7s 3ms/step - loss: 6.6625e-04\n",
      "Epoch 13/100\n",
      "2933/2933 [==============================] - 8s 3ms/step - loss: 7.9189e-04\n",
      "Epoch 14/100\n",
      "2933/2933 [==============================] - 7s 3ms/step - loss: 7.5040e-04\n",
      "Epoch 15/100\n",
      "2933/2933 [==============================] - 8s 3ms/step - loss: 8.2335e-04\n",
      "Epoch 16/100\n",
      "2933/2933 [==============================] - 8s 3ms/step - loss: 6.2619e-04\n",
      "Epoch 17/100\n",
      "2933/2933 [==============================] - 7s 3ms/step - loss: 6.3015e-04\n",
      "Epoch 18/100\n",
      "2933/2933 [==============================] - 8s 3ms/step - loss: 6.0064e-04\n",
      "Epoch 19/100\n",
      "2933/2933 [==============================] - 8s 3ms/step - loss: 6.4747e-04\n",
      "Epoch 20/100\n",
      "2933/2933 [==============================] - 8s 3ms/step - loss: 5.0469e-04\n",
      "Epoch 21/100\n",
      "2933/2933 [==============================] - 9s 3ms/step - loss: 5.8299e-04\n",
      "Epoch 22/100\n",
      "2933/2933 [==============================] - 8s 3ms/step - loss: 8.9404e-04\n",
      "Epoch 23/100\n",
      "2933/2933 [==============================] - 8s 3ms/step - loss: 5.4261e-04\n",
      "Epoch 24/100\n",
      "2933/2933 [==============================] - 8s 3ms/step - loss: 5.7391e-04\n",
      "Epoch 25/100\n",
      "2933/2933 [==============================] - 8s 3ms/step - loss: 5.0403e-04\n",
      "Epoch 26/100\n",
      "2933/2933 [==============================] - 8s 3ms/step - loss: 4.6787e-04\n",
      "Epoch 27/100\n",
      "2933/2933 [==============================] - 8s 3ms/step - loss: 6.1661e-04\n",
      "Epoch 28/100\n",
      "2933/2933 [==============================] - 8s 3ms/step - loss: 4.3416e-04\n",
      "Epoch 29/100\n",
      "2933/2933 [==============================] - 8s 3ms/step - loss: 4.4739e-04\n",
      "Epoch 30/100\n",
      "2933/2933 [==============================] - 8s 3ms/step - loss: 4.5726e-04\n",
      "Epoch 31/100\n",
      "2933/2933 [==============================] - 8s 3ms/step - loss: 4.5084e-04\n",
      "Epoch 32/100\n",
      "2933/2933 [==============================] - 8s 3ms/step - loss: 3.8171e-04\n",
      "Epoch 33/100\n",
      "2933/2933 [==============================] - 8s 3ms/step - loss: 4.2318e-04\n",
      "Epoch 34/100\n",
      "2933/2933 [==============================] - 8s 3ms/step - loss: 3.9780e-04\n",
      "Epoch 35/100\n",
      "2933/2933 [==============================] - 8s 3ms/step - loss: 5.3352e-04\n",
      "Epoch 36/100\n",
      "2933/2933 [==============================] - 9s 3ms/step - loss: 4.0790e-04\n",
      "Epoch 37/100\n",
      "2933/2933 [==============================] - 9s 3ms/step - loss: 5.7300e-04\n",
      "Epoch 38/100\n",
      "2933/2933 [==============================] - 8s 3ms/step - loss: 4.4882e-04A: 2s - lo\n",
      "Epoch 39/100\n",
      "2933/2933 [==============================] - 8s 3ms/step - loss: 3.6825e-04\n",
      "Epoch 40/100\n",
      "2933/2933 [==============================] - 8s 3ms/step - loss: 5.1818e-04\n",
      "Epoch 41/100\n",
      "2933/2933 [==============================] - 8s 3ms/step - loss: 3.9998e-04\n",
      "Epoch 42/100\n",
      "2933/2933 [==============================] - 8s 3ms/step - loss: 5.6889e-04\n",
      "Epoch 43/100\n",
      "2933/2933 [==============================] - 8s 3ms/step - loss: 4.5699e-04\n",
      "Epoch 44/100\n",
      "2933/2933 [==============================] - 8s 3ms/step - loss: 3.6735e-04\n",
      "Epoch 45/100\n",
      "2933/2933 [==============================] - 8s 3ms/step - loss: 3.9151e-04\n",
      "Epoch 46/100\n",
      "2933/2933 [==============================] - 8s 3ms/step - loss: 4.6374e-04\n",
      "Epoch 47/100\n",
      "2933/2933 [==============================] - 8s 3ms/step - loss: 4.4425e-04\n",
      "Epoch 48/100\n",
      "2933/2933 [==============================] - 8s 3ms/step - loss: 4.4100e-04\n",
      "Epoch 49/100\n",
      "2933/2933 [==============================] - 8s 3ms/step - loss: 4.2161e-04A: 1s - loss: 4\n",
      "Epoch 50/100\n",
      "2933/2933 [==============================] - 8s 3ms/step - loss: 3.5150e-04\n",
      "Epoch 51/100\n",
      "2933/2933 [==============================] - 8s 3ms/step - loss: 3.7486e-04\n",
      "Epoch 52/100\n",
      "2933/2933 [==============================] - 8s 3ms/step - loss: 3.7278e-04\n",
      "Epoch 53/100\n",
      "2933/2933 [==============================] - 7s 3ms/step - loss: 3.9002e-04\n",
      "Epoch 54/100\n",
      "2933/2933 [==============================] - 7s 3ms/step - loss: 3.0706e-04\n",
      "Epoch 55/100\n",
      "2933/2933 [==============================] - 7s 3ms/step - loss: 4.8998e-04\n",
      "Epoch 56/100\n",
      "2933/2933 [==============================] - 8s 3ms/step - loss: 3.7603e-04\n",
      "Epoch 57/100\n",
      "2933/2933 [==============================] - 7s 3ms/step - loss: 3.4698e-04\n",
      "Epoch 58/100\n",
      "2933/2933 [==============================] - 7s 3ms/step - loss: 3.1653e-04\n",
      "Epoch 59/100\n",
      "2933/2933 [==============================] - 8s 3ms/step - loss: 3.4245e-04\n",
      "Epoch 60/100\n",
      "2933/2933 [==============================] - 8s 3ms/step - loss: 3.6906e-04\n",
      "Epoch 61/100\n",
      "2933/2933 [==============================] - 8s 3ms/step - loss: 3.6973e-04\n",
      "Epoch 62/100\n",
      "2933/2933 [==============================] - 8s 3ms/step - loss: 3.3885e-04\n",
      "Epoch 63/100\n",
      "2933/2933 [==============================] - 8s 3ms/step - loss: 3.5920e-04\n",
      "Epoch 64/100\n",
      "2933/2933 [==============================] - 8s 3ms/step - loss: 3.6846e-04\n",
      "Epoch 65/100\n",
      "2933/2933 [==============================] - 8s 3ms/step - loss: 3.7808e-04\n",
      "Epoch 66/100\n",
      "2933/2933 [==============================] - 8s 3ms/step - loss: 4.5916e-04\n",
      "Epoch 67/100\n",
      "2933/2933 [==============================] - 10s 3ms/step - loss: 3.8929e-04\n",
      "Epoch 68/100\n",
      "2933/2933 [==============================] - 9s 3ms/step - loss: 3.4896e-04\n",
      "Epoch 69/100\n",
      "2933/2933 [==============================] - 8s 3ms/step - loss: 3.9326e-04\n",
      "Epoch 70/100\n",
      "2933/2933 [==============================] - 8s 3ms/step - loss: 2.8581e-04\n",
      "Epoch 71/100\n",
      "2933/2933 [==============================] - 8s 3ms/step - loss: 3.5887e-04\n",
      "Epoch 72/100\n",
      "2933/2933 [==============================] - 8s 3ms/step - loss: 3.9935e-04\n",
      "Epoch 73/100\n",
      "2933/2933 [==============================] - 8s 3ms/step - loss: 4.0909e-04\n",
      "Epoch 74/100\n",
      "2933/2933 [==============================] - 8s 3ms/step - loss: 3.2785e-04\n",
      "Epoch 75/100\n",
      "2933/2933 [==============================] - 8s 3ms/step - loss: 3.2504e-04\n",
      "Epoch 76/100\n",
      "2933/2933 [==============================] - 8s 3ms/step - loss: 3.6051e-04\n",
      "Epoch 77/100\n",
      "2933/2933 [==============================] - 8s 3ms/step - loss: 3.5525e-04\n",
      "Epoch 78/100\n",
      "2933/2933 [==============================] - 8s 3ms/step - loss: 3.7000e-04\n",
      "Epoch 79/100\n",
      "2933/2933 [==============================] - 8s 3ms/step - loss: 3.1514e-04\n",
      "Epoch 80/100\n",
      "2933/2933 [==============================] - 8s 3ms/step - loss: 3.8483e-04\n",
      "Epoch 81/100\n",
      "2933/2933 [==============================] - 8s 3ms/step - loss: 4.0512e-04\n",
      "Epoch 82/100\n",
      "2933/2933 [==============================] - 8s 3ms/step - loss: 3.2744e-04\n",
      "Epoch 83/100\n",
      "2933/2933 [==============================] - 8s 3ms/step - loss: 4.0064e-04\n",
      "Epoch 84/100\n",
      "2933/2933 [==============================] - 8s 3ms/step - loss: 3.3756e-04\n",
      "Epoch 85/100\n",
      "2933/2933 [==============================] - 8s 3ms/step - loss: 2.9035e-04\n",
      "Epoch 86/100\n",
      "2933/2933 [==============================] - 8s 3ms/step - loss: 2.7099e-04\n",
      "Epoch 87/100\n",
      "2933/2933 [==============================] - 8s 3ms/step - loss: 2.8159e-04\n",
      "Epoch 88/100\n",
      "2933/2933 [==============================] - 8s 3ms/step - loss: 3.4847e-04\n",
      "Epoch 89/100\n",
      "2933/2933 [==============================] - 8s 3ms/step - loss: 3.4082e-04\n",
      "Epoch 90/100\n",
      "2933/2933 [==============================] - 8s 3ms/step - loss: 4.0266e-04\n",
      "Epoch 91/100\n",
      "2933/2933 [==============================] - 8s 3ms/step - loss: 5.0944e-04\n",
      "Epoch 92/100\n",
      "2933/2933 [==============================] - 8s 3ms/step - loss: 4.1261e-04\n",
      "Epoch 93/100\n"
     ]
    },
    {
     "name": "stdout",
     "output_type": "stream",
     "text": [
      "2933/2933 [==============================] - 8s 3ms/step - loss: 3.0315e-04\n",
      "Epoch 94/100\n",
      "2933/2933 [==============================] - 8s 3ms/step - loss: 2.9284e-04\n",
      "Epoch 95/100\n",
      "2933/2933 [==============================] - 8s 3ms/step - loss: 3.4039e-04\n",
      "Epoch 96/100\n",
      "2933/2933 [==============================] - 8s 3ms/step - loss: 3.3095e-04\n",
      "Epoch 97/100\n",
      "2933/2933 [==============================] - 8s 3ms/step - loss: 3.6886e-04\n",
      "Epoch 98/100\n",
      "2933/2933 [==============================] - 8s 3ms/step - loss: 2.9509e-04\n",
      "Epoch 99/100\n",
      "2933/2933 [==============================] - 8s 3ms/step - loss: 3.0709e-04\n",
      "Epoch 100/100\n",
      "2933/2933 [==============================] - 8s 3ms/step - loss: 3.2128e-04\n"
     ]
    },
    {
     "data": {
      "text/plain": [
       "<keras.callbacks.callbacks.History at 0x2b12af73b08>"
      ]
     },
     "execution_count": 9,
     "metadata": {},
     "output_type": "execute_result"
    }
   ],
   "source": [
    "from keras.models import Sequential\n",
    "from keras.layers import Dense, SimpleRNN, Dropout,Flatten\n",
    "\n",
    "regressor=Sequential()\n",
    "#first RNN layer\n",
    "regressor.add(SimpleRNN(128,activation=\"relu\",return_sequences=True,input_shape=(x_train.shape[1],1)))\n",
    "regressor.add(Dropout(0.25))\n",
    "#second RNN layer\n",
    "regressor.add(SimpleRNN(256,activation=\"relu\",return_sequences=True))\n",
    "regressor.add(Dropout(0.25))\n",
    "#third RNN layer\n",
    "regressor.add(SimpleRNN(512,activation=\"relu\",return_sequences=True))\n",
    "regressor.add(Dropout(0.35))\n",
    "#fourth RNN layer\n",
    "regressor.add(SimpleRNN(256,activation=\"relu\",return_sequences=True))\n",
    "regressor.add(Dropout(0.25))\n",
    "#fifth RNN layer\n",
    "regressor.add(SimpleRNN(128,activation=\"relu\",return_sequences=True))\n",
    "regressor.add(Dropout(0.25))\n",
    "#convert the matrix to 1-line\n",
    "regressor.add(Flatten())\n",
    "#output layer\n",
    "regressor.add(Dense(1))\n",
    "\n",
    "regressor.compile(optimizer=\"adam\",loss=\"mean_squared_error\")\n",
    "regressor.fit(x_train,y_train,epochs=100,batch_size=64)"
   ]
  },
  {
   "cell_type": "markdown",
   "metadata": {},
   "source": [
    "# preparing the test dataset:"
   ]
  },
  {
   "cell_type": "code",
   "execution_count": 10,
   "metadata": {},
   "outputs": [],
   "source": [
    "inputs=data[len(data)-len(close_test)-timestep:]\n",
    "inputs=inputs.values.reshape(-1,1)\n",
    "inputs=scaler.transform(inputs)"
   ]
  },
  {
   "cell_type": "code",
   "execution_count": 11,
   "metadata": {},
   "outputs": [],
   "source": [
    "x_test=[]\n",
    "for i in range(timestep,inputs.shape[0]):\n",
    "    x_test.append(inputs[i-timestep:i,0])\n",
    "x_test=np.array(x_test)\n",
    "x_test=x_test.reshape(x_test.shape[0],x_test.shape[1],1)"
   ]
  },
  {
   "cell_type": "code",
   "execution_count": 12,
   "metadata": {},
   "outputs": [],
   "source": [
    "predicted_data=regressor.predict(x_test)\n",
    "predicted_data=scaler.inverse_transform(predicted_data)"
   ]
  },
  {
   "cell_type": "markdown",
   "metadata": {},
   "source": [
    "We learnt our model with train data and then we tried to predict next 50 data (train data=50). \n",
    "\n",
    "Then we compared predictions with our test (real) data."
   ]
  },
  {
   "cell_type": "code",
   "execution_count": 13,
   "metadata": {},
   "outputs": [],
   "source": [
    "data_test=np.array(close_test)\n",
    "data_test=data_test.reshape(len(data_test),1)"
   ]
  },
  {
   "cell_type": "code",
   "execution_count": 14,
   "metadata": {},
   "outputs": [
    {
     "data": {
      "image/png": "[encoded data removed]",
      "text/plain": [
       "<Figure size 640x320 with 1 Axes>"
      ]
     },
     "metadata": {},
     "output_type": "display_data"
    }
   ],
   "source": [
    "plt.figure(figsize=(8,4), dpi=80, facecolor='w', edgecolor='k')\n",
    "plt.plot(data_test,color=\"r\",label=\"true result\")\n",
    "plt.plot(predicted_data,color=\"b\",label=\"predicted result\")\n",
    "plt.legend()\n",
    "plt.xlabel(\"Time(50 days)\")\n",
    "plt.ylabel(\"Close Values\")\n",
    "plt.grid(True)\n",
    "plt.show()"
   ]
  },
  {
   "cell_type": "code",
   "execution_count": 15,
   "metadata": {},
   "outputs": [
    {
     "name": "stdout",
     "output_type": "stream",
     "text": [
      "Epoch 1/100\n",
      "2933/2933 [==============================] - 3s 1ms/step - loss: 0.0056\n",
      "Epoch 2/100\n",
      "2933/2933 [==============================] - 3s 1ms/step - loss: 7.2649e-04\n",
      "Epoch 3/100\n",
      "2933/2933 [==============================] - 4s 1ms/step - loss: 4.9829e-04\n",
      "Epoch 4/100\n",
      "2933/2933 [==============================] - 3s 1ms/step - loss: 3.9128e-04\n",
      "Epoch 5/100\n",
      "2933/2933 [==============================] - 3s 1ms/step - loss: 3.1926e-04\n",
      "Epoch 6/100\n",
      "2933/2933 [==============================] - 3s 1ms/step - loss: 2.6395e-04\n",
      "Epoch 7/100\n",
      "2933/2933 [==============================] - 3s 1ms/step - loss: 2.6979e-04\n",
      "Epoch 8/100\n",
      "2933/2933 [==============================] - 3s 1ms/step - loss: 2.3231e-04\n",
      "Epoch 9/100\n",
      "2933/2933 [==============================] - 3s 1ms/step - loss: 2.2079e-04\n",
      "Epoch 10/100\n",
      "2933/2933 [==============================] - 3s 996us/step - loss: 2.1364e-04\n",
      "Epoch 11/100\n",
      "2933/2933 [==============================] - 3s 999us/step - loss: 2.1906e-04\n",
      "Epoch 12/100\n",
      "2933/2933 [==============================] - 3s 994us/step - loss: 2.0448e-04\n",
      "Epoch 13/100\n",
      "2933/2933 [==============================] - 3s 999us/step - loss: 1.9341e-04\n",
      "Epoch 14/100\n",
      "2933/2933 [==============================] - 3s 989us/step - loss: 1.8961e-04\n",
      "Epoch 15/100\n",
      "2933/2933 [==============================] - 3s 994us/step - loss: 1.9388e-04\n",
      "Epoch 16/100\n",
      "2933/2933 [==============================] - 3s 1ms/step - loss: 1.8814e-04\n",
      "Epoch 17/100\n",
      "2933/2933 [==============================] - 3s 994us/step - loss: 1.8314e-04\n",
      "Epoch 18/100\n",
      "2933/2933 [==============================] - 3s 1ms/step - loss: 1.9665e-04\n",
      "Epoch 19/100\n",
      "2933/2933 [==============================] - 3s 1ms/step - loss: 1.8450e-04\n",
      "Epoch 20/100\n",
      "2933/2933 [==============================] - 3s 1ms/step - loss: 1.7428e-04\n",
      "Epoch 21/100\n",
      "2933/2933 [==============================] - 3s 1ms/step - loss: 1.7776e-04\n",
      "Epoch 22/100\n",
      "2933/2933 [==============================] - 3s 1ms/step - loss: 1.8217e-04\n",
      "Epoch 23/100\n",
      "2933/2933 [==============================] - 3s 1ms/step - loss: 1.7710e-04\n",
      "Epoch 24/100\n",
      "2933/2933 [==============================] - 3s 1ms/step - loss: 1.7462e-04\n",
      "Epoch 25/100\n",
      "2933/2933 [==============================] - 3s 1ms/step - loss: 1.7011e-04\n",
      "Epoch 26/100\n",
      "2933/2933 [==============================] - 3s 1ms/step - loss: 1.5880e-04\n",
      "Epoch 27/100\n",
      "2933/2933 [==============================] - 3s 1ms/step - loss: 1.6342e-04\n",
      "Epoch 28/100\n",
      "2933/2933 [==============================] - 3s 1ms/step - loss: 1.5769e-04\n",
      "Epoch 29/100\n",
      "2933/2933 [==============================] - 3s 1ms/step - loss: 1.6143e-04\n",
      "Epoch 30/100\n",
      "2933/2933 [==============================] - 3s 1ms/step - loss: 1.5775e-04\n",
      "Epoch 31/100\n",
      "2933/2933 [==============================] - 3s 1ms/step - loss: 1.5522e-04\n",
      "Epoch 32/100\n",
      "2933/2933 [==============================] - 3s 1ms/step - loss: 1.4989e-04A: 0s - loss\n",
      "Epoch 33/100\n",
      "2933/2933 [==============================] - 3s 1ms/step - loss: 1.4898e-04\n",
      "Epoch 34/100\n",
      "2933/2933 [==============================] - 3s 1ms/step - loss: 1.5449e-04\n",
      "Epoch 35/100\n",
      "2933/2933 [==============================] - 3s 1ms/step - loss: 1.5383e-04\n",
      "Epoch 36/100\n",
      "2933/2933 [==============================] - 3s 1ms/step - loss: 1.4190e-04\n",
      "Epoch 37/100\n",
      "2933/2933 [==============================] - 3s 1ms/step - loss: 1.4104e-04\n",
      "Epoch 38/100\n",
      "2933/2933 [==============================] - 3s 1ms/step - loss: 1.4211e-04\n",
      "Epoch 39/100\n",
      "2933/2933 [==============================] - 3s 1ms/step - loss: 1.4023e-04\n",
      "Epoch 40/100\n",
      "2933/2933 [==============================] - 3s 1ms/step - loss: 1.3917e-04\n",
      "Epoch 41/100\n",
      "2933/2933 [==============================] - 3s 1ms/step - loss: 1.4172e-04\n",
      "Epoch 42/100\n",
      "2933/2933 [==============================] - 3s 1ms/step - loss: 1.4280e-04\n",
      "Epoch 43/100\n",
      "2933/2933 [==============================] - 3s 1ms/step - loss: 1.3247e-04\n",
      "Epoch 44/100\n",
      "2933/2933 [==============================] - 3s 1ms/step - loss: 1.4760e-04\n",
      "Epoch 45/100\n",
      "2933/2933 [==============================] - 4s 1ms/step - loss: 1.3281e-04\n",
      "Epoch 46/100\n",
      "2933/2933 [==============================] - 3s 1ms/step - loss: 1.4776e-04\n",
      "Epoch 47/100\n",
      "2933/2933 [==============================] - 3s 1ms/step - loss: 1.4609e-04\n",
      "Epoch 48/100\n",
      "2933/2933 [==============================] - 3s 1ms/step - loss: 1.2138e-04\n",
      "Epoch 49/100\n",
      "2933/2933 [==============================] - 3s 978us/step - loss: 1.2904e-04\n",
      "Epoch 50/100\n",
      "2933/2933 [==============================] - 3s 1ms/step - loss: 1.2641e-04\n",
      "Epoch 51/100\n",
      "2933/2933 [==============================] - 3s 1ms/step - loss: 1.2537e-04\n",
      "Epoch 52/100\n",
      "2933/2933 [==============================] - 3s 1ms/step - loss: 1.4175e-04\n",
      "Epoch 53/100\n",
      "2933/2933 [==============================] - 3s 1ms/step - loss: 1.2049e-04\n",
      "Epoch 54/100\n",
      "2933/2933 [==============================] - 3s 1ms/step - loss: 1.3570e-04\n",
      "Epoch 55/100\n",
      "2933/2933 [==============================] - 3s 1ms/step - loss: 1.1981e-04\n",
      "Epoch 56/100\n",
      "2933/2933 [==============================] - 3s 1ms/step - loss: 1.2399e-04\n",
      "Epoch 57/100\n",
      "2933/2933 [==============================] - 3s 1ms/step - loss: 1.2232e-04\n",
      "Epoch 58/100\n",
      "2933/2933 [==============================] - 3s 1ms/step - loss: 1.3608e-04\n",
      "Epoch 59/100\n",
      "2933/2933 [==============================] - 3s 995us/step - loss: 1.2213e-04\n",
      "Epoch 60/100\n",
      "2933/2933 [==============================] - 3s 991us/step - loss: 1.1503e-04\n",
      "Epoch 61/100\n",
      "2933/2933 [==============================] - 3s 993us/step - loss: 1.1464e-04\n",
      "Epoch 62/100\n",
      "2933/2933 [==============================] - 3s 1ms/step - loss: 1.1616e-04\n",
      "Epoch 63/100\n",
      "2933/2933 [==============================] - 3s 1ms/step - loss: 1.1778e-04\n",
      "Epoch 64/100\n",
      "2933/2933 [==============================] - 3s 1ms/step - loss: 1.2442e-04\n",
      "Epoch 65/100\n",
      "2933/2933 [==============================] - 3s 1ms/step - loss: 1.2157e-04\n",
      "Epoch 66/100\n",
      "2933/2933 [==============================] - 3s 1ms/step - loss: 1.1629e-04\n",
      "Epoch 67/100\n",
      "2933/2933 [==============================] - 3s 1ms/step - loss: 1.1580e-04\n",
      "Epoch 68/100\n",
      "2933/2933 [==============================] - 3s 1ms/step - loss: 1.2001e-04\n",
      "Epoch 69/100\n",
      "2933/2933 [==============================] - 3s 1ms/step - loss: 1.1492e-04\n",
      "Epoch 70/100\n",
      "2933/2933 [==============================] - 3s 1ms/step - loss: 1.0835e-04\n",
      "Epoch 71/100\n",
      "2933/2933 [==============================] - 3s 1ms/step - loss: 1.1878e-04\n",
      "Epoch 72/100\n",
      "2933/2933 [==============================] - 3s 1ms/step - loss: 1.1903e-04\n",
      "Epoch 73/100\n",
      "2933/2933 [==============================] - 3s 1ms/step - loss: 1.0944e-04\n",
      "Epoch 74/100\n",
      "2933/2933 [==============================] - 3s 1ms/step - loss: 1.1025e-04\n",
      "Epoch 75/100\n",
      "2933/2933 [==============================] - 3s 1ms/step - loss: 1.0919e-04\n",
      "Epoch 76/100\n",
      "2933/2933 [==============================] - 3s 1ms/step - loss: 1.1541e-04\n",
      "Epoch 77/100\n",
      "2933/2933 [==============================] - 3s 1ms/step - loss: 1.1556e-04\n",
      "Epoch 78/100\n",
      "2933/2933 [==============================] - 3s 1ms/step - loss: 1.1330e-04\n",
      "Epoch 79/100\n",
      "2933/2933 [==============================] - 3s 1ms/step - loss: 1.0831e-04\n",
      "Epoch 80/100\n",
      "2933/2933 [==============================] - 4s 1ms/step - loss: 1.1075e-04\n",
      "Epoch 81/100\n",
      "2933/2933 [==============================] - 3s 1ms/step - loss: 1.1847e-04\n",
      "Epoch 82/100\n",
      "2933/2933 [==============================] - 3s 1ms/step - loss: 1.0791e-04\n",
      "Epoch 83/100\n",
      "2933/2933 [==============================] - 3s 1ms/step - loss: 1.0897e-04\n",
      "Epoch 84/100\n",
      "2933/2933 [==============================] - 3s 1ms/step - loss: 1.0837e-04\n",
      "Epoch 85/100\n",
      "2933/2933 [==============================] - 3s 1ms/step - loss: 1.1331e-04\n",
      "Epoch 86/100\n",
      "2933/2933 [==============================] - 3s 1ms/step - loss: 1.0464e-04\n",
      "Epoch 87/100\n",
      "2933/2933 [==============================] - 3s 1ms/step - loss: 1.0517e-04\n",
      "Epoch 88/100\n",
      "2933/2933 [==============================] - 3s 974us/step - loss: 1.1653e-04\n",
      "Epoch 89/100\n",
      "2933/2933 [==============================] - 3s 969us/step - loss: 1.2755e-04\n",
      "Epoch 90/100\n",
      "2933/2933 [==============================] - 3s 967us/step - loss: 1.0313e-04\n",
      "Epoch 91/100\n",
      "2933/2933 [==============================] - 3s 970us/step - loss: 1.0719e-04\n",
      "Epoch 92/100\n"
     ]
    },
    {
     "name": "stdout",
     "output_type": "stream",
     "text": [
      "2933/2933 [==============================] - 3s 972us/step - loss: 1.0181e-04\n",
      "Epoch 93/100\n",
      "2933/2933 [==============================] - 3s 974us/step - loss: 1.0770e-04\n",
      "Epoch 94/100\n",
      "2933/2933 [==============================] - 3s 967us/step - loss: 1.0602e-04\n",
      "Epoch 95/100\n",
      "2933/2933 [==============================] - 3s 975us/step - loss: 1.1037e-04\n",
      "Epoch 96/100\n",
      "2933/2933 [==============================] - 3s 974us/step - loss: 1.0611e-04\n",
      "Epoch 97/100\n",
      "2933/2933 [==============================] - 3s 960us/step - loss: 1.0648e-04\n",
      "Epoch 98/100\n",
      "2933/2933 [==============================] - 3s 997us/step - loss: 1.0237e-04\n",
      "Epoch 99/100\n",
      "2933/2933 [==============================] - 3s 969us/step - loss: 1.0323e-04\n",
      "Epoch 100/100\n",
      "2933/2933 [==============================] - 3s 967us/step - loss: 1.0590e-04\n"
     ]
    },
    {
     "data": {
      "text/plain": [
       "<keras.callbacks.callbacks.History at 0x2b139437dc8>"
      ]
     },
     "execution_count": 15,
     "metadata": {},
     "output_type": "execute_result"
    }
   ],
   "source": [
    "from sklearn.metrics import mean_absolute_error\n",
    "from keras.models import Sequential\n",
    "from keras.layers import Dense, LSTM, Dropout,Flatten\n",
    "\n",
    "model=Sequential()\n",
    "\n",
    "model.add(LSTM(10,input_shape=(None,1),activation=\"relu\"))\n",
    "\n",
    "model.add(Dense(1))\n",
    "\n",
    "model.compile(loss=\"mean_squared_error\",optimizer=\"adam\")\n",
    "\n",
    "model.fit(x_train,y_train,epochs=100,batch_size=32)"
   ]
  },
  {
   "cell_type": "code",
   "execution_count": 16,
   "metadata": {},
   "outputs": [],
   "source": [
    "inputs=data[len(data)-len(close_test)-timestep:]\n",
    "inputs=inputs.values.reshape(-1,1)\n",
    "inputs=scaler.transform(inputs)"
   ]
  },
  {
   "cell_type": "code",
   "execution_count": 17,
   "metadata": {},
   "outputs": [],
   "source": [
    "x_test=[]\n",
    "for i in range(timestep,inputs.shape[0]):\n",
    "    x_test.append(inputs[i-timestep:i,0])\n",
    "x_test=np.array(x_test)\n",
    "x_test=x_test.reshape(x_test.shape[0],x_test.shape[1],1)"
   ]
  },
  {
   "cell_type": "code",
   "execution_count": 18,
   "metadata": {},
   "outputs": [],
   "source": [
    "predicted_data=model.predict(x_test)\n",
    "predicted_data=scaler.inverse_transform(predicted_data)"
   ]
  },
  {
   "cell_type": "code",
   "execution_count": 19,
   "metadata": {},
   "outputs": [],
   "source": [
    "data_test=np.array(close_test)\n",
    "data_test=data_test.reshape(len(data_test),1)"
   ]
  },
  {
   "cell_type": "code",
   "execution_count": 20,
   "metadata": {},
   "outputs": [
    {
     "data": {
      "image/png": "[encoded data removed]",
      "text/plain": [
       "<Figure size 640x320 with 1 Axes>"
      ]
     },
     "metadata": {},
     "output_type": "display_data"
    }
   ],
   "source": [
    "plt.figure(figsize=(8,4), dpi=80, facecolor='w', edgecolor='k')\n",
    "plt.plot(data_test,color=\"r\",label=\"true result\")\n",
    "plt.plot(predicted_data,color=\"b\",label=\"predicted result\")\n",
    "plt.legend()\n",
    "plt.xlabel(\"Time(50 days)\")\n",
    "plt.ylabel(\"Close Values\")\n",
    "plt.grid(True)\n",
    "plt.show()"
   ]
  },
  {
   "cell_type": "code",
   "execution_count": null,
   "metadata": {},
   "outputs": [],
   "source": []
  }
 ],
 "metadata": {
  "kernelspec": {
   "display_name": "Python 3.7 (tensorflow)",
   "language": "python",
   "name": "tensorflow"
  },
  "language_info": {
   "codemirror_mode": {
    "name": "ipython",
    "version": 3
   },
   "file_extension": ".py",
   "mimetype": "text/x-python",
   "name": "python",
   "nbconvert_exporter": "python",
   "pygments_lexer": "ipython3",
   "version": "3.7.7"
  }
 },
 "nbformat": 4,
 "nbformat_minor": 4
}
